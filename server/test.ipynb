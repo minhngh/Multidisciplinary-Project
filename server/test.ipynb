{
 "metadata": {
  "language_info": {
   "codemirror_mode": {
    "name": "ipython",
    "version": 3
   },
   "file_extension": ".py",
   "mimetype": "text/x-python",
   "name": "python",
   "nbconvert_exporter": "python",
   "pygments_lexer": "ipython3",
   "version": "3.8.3"
  },
  "orig_nbformat": 2,
  "kernelspec": {
   "name": "python383jvsc74a57bd03a65ec0067048d8d9fb809b9b3ebe7ca2322348e17ec14b4fa0054b7b3c817f9",
   "display_name": "Python 3.8.3 64-bit ('base': conda)"
  }
 },
 "nbformat": 4,
 "nbformat_minor": 2,
 "cells": [
  {
   "cell_type": "code",
   "execution_count": 9,
   "metadata": {},
   "outputs": [],
   "source": [
    "import yaml\n",
    "from Adafruit_IO import MQTTClient\n",
    "import json\n",
    "\n",
    "class MQTT:\n",
    "    def __init__(self):\n",
    "        # edit configuration in config.yml\n",
    "        with open('config.yml') as f:\n",
    "            config = yaml.load(f, Loader = yaml.FullLoader)\n",
    "\n",
    "        self.client = MQTTClient(config['IO_USERNAME'], config['IO_KEY'])\n",
    "        self.speaker_feed = config['feed']['output'][0]\n",
    "        self.magnetic_feed = config['feed']['input'][0]\n",
    "        self.is_open = False\n",
    "        def connected(client):\n",
    "            client.subscribe(self.magnetic_feed)\n",
    "        def message(client, feed_id, payload):\n",
    "            is_open = parse_magnetic_format(payload)\n",
    "            self.is_open = is_open        \n",
    "        def parse_magnetic_format(data):\n",
    "            data = json.loads(data)\n",
    "            return int(data['data']) == 1\n",
    "        self.client.on_connect = connected\n",
    "        self.client.on_message = message\n",
    "        self.client.connect()\n",
    "        self.client.loop_background()\n",
    "    def __get_speaker_format(self, value):\n",
    "        return json.dumps({\n",
    "            'id': '3',\n",
    "            'name': 'SPEAKER',\n",
    "            'data': str(value),\n",
    "            'unit': ''\n",
    "        })\n",
    "    def send__speaker_data(self, value):\n",
    "        \"\"\"\n",
    "            send value to MQTT server\n",
    "            Arguments:\n",
    "                - value: integer, range from 0 to 1023\n",
    "            Return: None\n",
    "        \"\"\"\n",
    "        self.client.publish(self.speaker_feed,  self.__get_speaker_format(value))\n",
    "    def receive_door_state(self):\n",
    "        \"\"\"\n",
    "            receive the state of door\n",
    "            Arguments: None\n",
    "            Return: True if the door is open, otherwise return False\n",
    "        \"\"\"\n",
    "        return self.is_open\n",
    "    def send_magnetic_data(self, value):\n",
    "        \"\"\"\n",
    "            send value to MQTT server\n",
    "            Arguments:\n",
    "                - value: integer, range from 0 to 1023\n",
    "            Return: None\n",
    "        \"\"\"\n",
    "        value = {\n",
    "            \"id\": \"8\",\n",
    "            \"name\": \"MAGNETIC\", \n",
    "            \"data\": str(value),\n",
    "            \"unit\": \"\"\n",
    "        }\n",
    "        self.client.publish(self.magnetic_feed,  json.dumps(value))\n",
    "    def receive_speaker(self):\n",
    "        "
   ]
  },
  {
   "cell_type": "code",
   "execution_count": 10,
   "metadata": {},
   "outputs": [],
   "source": [
    "mqtt = MQTT()"
   ]
  },
  {
   "cell_type": "code",
   "execution_count": 12,
   "metadata": {},
   "outputs": [],
   "source": [
    "mqtt.send_magnetic_data(0)"
   ]
  },
  {
   "cell_type": "code",
   "execution_count": 13,
   "metadata": {},
   "outputs": [],
   "source": [
    "with open('config.yml') as f:\n",
    "    config = yaml.load(f, Loader = yaml.FullLoader)\n",
    "\n",
    "client = MQTTClient(config['IO_USERNAME'], config['IO_KEY'])\n",
    "speaker_feed = config['feed']['output'][0]"
   ]
  },
  {
   "cell_type": "code",
   "execution_count": 15,
   "metadata": {},
   "outputs": [],
   "source": [
    "def connected(client):\n",
    "    client.subscribe(speaker_feed)\n",
    "def message(client, feed_id, payload):\n",
    "    print(payload)"
   ]
  },
  {
   "cell_type": "code",
   "execution_count": 16,
   "metadata": {},
   "outputs": [],
   "source": [
    "client.on_connect = connected\n",
    "client.on_message = message"
   ]
  },
  {
   "cell_type": "code",
   "execution_count": null,
   "metadata": {},
   "outputs": [],
   "source": [
    "client.connect()\n",
    "client.loop_blocking()"
   ]
  },
  {
   "cell_type": "code",
   "execution_count": null,
   "metadata": {},
   "outputs": [],
   "source": []
  }
 ]
}